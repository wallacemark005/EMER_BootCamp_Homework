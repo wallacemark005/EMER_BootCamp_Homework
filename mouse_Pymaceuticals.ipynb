{
 "cells": [
  {
   "cell_type": "markdown",
   "id": "7be7e581",
   "metadata": {},
   "source": [
    "# Dependencies and Setup"
   ]
  },
  {
   "cell_type": "code",
   "execution_count": 139,
   "id": "9d8c69ac",
   "metadata": {},
   "outputs": [],
   "source": [
    "# Dependencies and Setup\n",
    "import matplotlib.pyplot as plt\n",
    "import pandas as pd\n",
    "import scipy.stats as st\n",
    "from scipy.stats import linregress\n",
    "from scipy.stats import sem\n",
    "import numpy as np"
   ]
  },
  {
   "cell_type": "markdown",
   "id": "2b105366",
   "metadata": {},
   "source": [
    "# data files with join"
   ]
  },
  {
   "cell_type": "code",
   "execution_count": 140,
   "id": "15cbf3cf",
   "metadata": {},
   "outputs": [
    {
     "data": {
      "text/html": [
       "<div>\n",
       "<style scoped>\n",
       "    .dataframe tbody tr th:only-of-type {\n",
       "        vertical-align: middle;\n",
       "    }\n",
       "\n",
       "    .dataframe tbody tr th {\n",
       "        vertical-align: top;\n",
       "    }\n",
       "\n",
       "    .dataframe thead th {\n",
       "        text-align: right;\n",
       "    }\n",
       "</style>\n",
       "<table border=\"1\" class=\"dataframe\">\n",
       "  <thead>\n",
       "    <tr style=\"text-align: right;\">\n",
       "      <th></th>\n",
       "      <th>Mouse ID</th>\n",
       "      <th>Drug Regimen</th>\n",
       "      <th>Sex</th>\n",
       "      <th>Age_months</th>\n",
       "      <th>Weight (g)</th>\n",
       "      <th>Timepoint</th>\n",
       "      <th>Tumor Volume (mm3)</th>\n",
       "      <th>Metastatic Sites</th>\n",
       "    </tr>\n",
       "  </thead>\n",
       "  <tbody>\n",
       "    <tr>\n",
       "      <th>0</th>\n",
       "      <td>k403</td>\n",
       "      <td>Ramicane</td>\n",
       "      <td>Male</td>\n",
       "      <td>21</td>\n",
       "      <td>16</td>\n",
       "      <td>0</td>\n",
       "      <td>45.000000</td>\n",
       "      <td>0</td>\n",
       "    </tr>\n",
       "    <tr>\n",
       "      <th>1</th>\n",
       "      <td>k403</td>\n",
       "      <td>Ramicane</td>\n",
       "      <td>Male</td>\n",
       "      <td>21</td>\n",
       "      <td>16</td>\n",
       "      <td>5</td>\n",
       "      <td>38.825898</td>\n",
       "      <td>0</td>\n",
       "    </tr>\n",
       "    <tr>\n",
       "      <th>2</th>\n",
       "      <td>k403</td>\n",
       "      <td>Ramicane</td>\n",
       "      <td>Male</td>\n",
       "      <td>21</td>\n",
       "      <td>16</td>\n",
       "      <td>10</td>\n",
       "      <td>35.014271</td>\n",
       "      <td>1</td>\n",
       "    </tr>\n",
       "    <tr>\n",
       "      <th>3</th>\n",
       "      <td>k403</td>\n",
       "      <td>Ramicane</td>\n",
       "      <td>Male</td>\n",
       "      <td>21</td>\n",
       "      <td>16</td>\n",
       "      <td>15</td>\n",
       "      <td>34.223992</td>\n",
       "      <td>1</td>\n",
       "    </tr>\n",
       "    <tr>\n",
       "      <th>4</th>\n",
       "      <td>k403</td>\n",
       "      <td>Ramicane</td>\n",
       "      <td>Male</td>\n",
       "      <td>21</td>\n",
       "      <td>16</td>\n",
       "      <td>20</td>\n",
       "      <td>32.997729</td>\n",
       "      <td>1</td>\n",
       "    </tr>\n",
       "  </tbody>\n",
       "</table>\n",
       "</div>"
      ],
      "text/plain": [
       "  Mouse ID Drug Regimen   Sex  Age_months  Weight (g)  Timepoint  \\\n",
       "0     k403     Ramicane  Male          21          16          0   \n",
       "1     k403     Ramicane  Male          21          16          5   \n",
       "2     k403     Ramicane  Male          21          16         10   \n",
       "3     k403     Ramicane  Male          21          16         15   \n",
       "4     k403     Ramicane  Male          21          16         20   \n",
       "\n",
       "   Tumor Volume (mm3)  Metastatic Sites  \n",
       "0           45.000000                 0  \n",
       "1           38.825898                 0  \n",
       "2           35.014271                 1  \n",
       "3           34.223992                 1  \n",
       "4           32.997729                 1  "
      ]
     },
     "execution_count": 140,
     "metadata": {},
     "output_type": "execute_result"
    }
   ],
   "source": [
    "mouse_metadata_path = \"C:\\\\Users\\\\walla\\\\Pandas_Challenge\\\\mouse_metadata.csv\"\n",
    "study_results_path = \"C:\\\\Users\\\\walla\\\\Pandas_Challenge\\\\Study_results.csv\"\n",
    "\n",
    "mouse_metadata = pd.read_csv(mouse_metadata_path)\n",
    "study_results = pd.read_csv(study_results_path)\n",
    "\n",
    "combine_data_df = pd.merge(mouse_metadata, study_results, how = \"outer\")\n",
    "combine_data_df.head()"
   ]
  },
  {
   "cell_type": "markdown",
   "id": "3f87faa7",
   "metadata": {},
   "source": [
    "# Clean column Data"
   ]
  },
  {
   "cell_type": "code",
   "execution_count": 141,
   "id": "b8827309",
   "metadata": {},
   "outputs": [
    {
     "data": {
      "text/html": [
       "<div>\n",
       "<style scoped>\n",
       "    .dataframe tbody tr th:only-of-type {\n",
       "        vertical-align: middle;\n",
       "    }\n",
       "\n",
       "    .dataframe tbody tr th {\n",
       "        vertical-align: top;\n",
       "    }\n",
       "\n",
       "    .dataframe thead th {\n",
       "        text-align: right;\n",
       "    }\n",
       "</style>\n",
       "<table border=\"1\" class=\"dataframe\">\n",
       "  <thead>\n",
       "    <tr style=\"text-align: right;\">\n",
       "      <th></th>\n",
       "      <th>Mouse ID</th>\n",
       "      <th>Drug Regimen</th>\n",
       "      <th>Timepoint</th>\n",
       "      <th>Tumor Volume (mm3)</th>\n",
       "    </tr>\n",
       "  </thead>\n",
       "  <tbody>\n",
       "    <tr>\n",
       "      <th>0</th>\n",
       "      <td>k403</td>\n",
       "      <td>Ramicane</td>\n",
       "      <td>0</td>\n",
       "      <td>45.000000</td>\n",
       "    </tr>\n",
       "    <tr>\n",
       "      <th>1</th>\n",
       "      <td>k403</td>\n",
       "      <td>Ramicane</td>\n",
       "      <td>5</td>\n",
       "      <td>38.825898</td>\n",
       "    </tr>\n",
       "    <tr>\n",
       "      <th>2</th>\n",
       "      <td>k403</td>\n",
       "      <td>Ramicane</td>\n",
       "      <td>10</td>\n",
       "      <td>35.014271</td>\n",
       "    </tr>\n",
       "    <tr>\n",
       "      <th>3</th>\n",
       "      <td>k403</td>\n",
       "      <td>Ramicane</td>\n",
       "      <td>15</td>\n",
       "      <td>34.223992</td>\n",
       "    </tr>\n",
       "    <tr>\n",
       "      <th>4</th>\n",
       "      <td>k403</td>\n",
       "      <td>Ramicane</td>\n",
       "      <td>20</td>\n",
       "      <td>32.997729</td>\n",
       "    </tr>\n",
       "    <tr>\n",
       "      <th>...</th>\n",
       "      <td>...</td>\n",
       "      <td>...</td>\n",
       "      <td>...</td>\n",
       "      <td>...</td>\n",
       "    </tr>\n",
       "    <tr>\n",
       "      <th>1888</th>\n",
       "      <td>z969</td>\n",
       "      <td>Naftisol</td>\n",
       "      <td>25</td>\n",
       "      <td>63.145652</td>\n",
       "    </tr>\n",
       "    <tr>\n",
       "      <th>1889</th>\n",
       "      <td>z969</td>\n",
       "      <td>Naftisol</td>\n",
       "      <td>30</td>\n",
       "      <td>65.841013</td>\n",
       "    </tr>\n",
       "    <tr>\n",
       "      <th>1890</th>\n",
       "      <td>z969</td>\n",
       "      <td>Naftisol</td>\n",
       "      <td>35</td>\n",
       "      <td>69.176246</td>\n",
       "    </tr>\n",
       "    <tr>\n",
       "      <th>1891</th>\n",
       "      <td>z969</td>\n",
       "      <td>Naftisol</td>\n",
       "      <td>40</td>\n",
       "      <td>70.314904</td>\n",
       "    </tr>\n",
       "    <tr>\n",
       "      <th>1892</th>\n",
       "      <td>z969</td>\n",
       "      <td>Naftisol</td>\n",
       "      <td>45</td>\n",
       "      <td>73.867845</td>\n",
       "    </tr>\n",
       "  </tbody>\n",
       "</table>\n",
       "<p>1880 rows × 4 columns</p>\n",
       "</div>"
      ],
      "text/plain": [
       "     Mouse ID Drug Regimen  Timepoint  Tumor Volume (mm3)\n",
       "0        k403     Ramicane          0           45.000000\n",
       "1        k403     Ramicane          5           38.825898\n",
       "2        k403     Ramicane         10           35.014271\n",
       "3        k403     Ramicane         15           34.223992\n",
       "4        k403     Ramicane         20           32.997729\n",
       "...       ...          ...        ...                 ...\n",
       "1888     z969     Naftisol         25           63.145652\n",
       "1889     z969     Naftisol         30           65.841013\n",
       "1890     z969     Naftisol         35           69.176246\n",
       "1891     z969     Naftisol         40           70.314904\n",
       "1892     z969     Naftisol         45           73.867845\n",
       "\n",
       "[1880 rows x 4 columns]"
      ]
     },
     "execution_count": 141,
     "metadata": {},
     "output_type": "execute_result"
    }
   ],
   "source": [
    "mouse_filter_df = combine_data_df[combine_data_df[\"Mouse ID\"]!=\"g989\"]\n",
    "clean_mouse_df = mouse_filter_df.drop([\"Sex\",\"Age_months\", \"Weight (g)\", \"Metastatic Sites\"], axis = 1)\n",
    "clean_mouse_df"
   ]
  },
  {
   "cell_type": "code",
   "execution_count": 142,
   "id": "43557322",
   "metadata": {},
   "outputs": [
    {
     "data": {
      "text/plain": [
       "Drug Regimen\n",
       "Capomulin    230\n",
       "Ceftamin     178\n",
       "Infubinol    178\n",
       "Ketapril     188\n",
       "Naftisol     186\n",
       "Name: Timepoint, dtype: int64"
      ]
     },
     "execution_count": 142,
     "metadata": {},
     "output_type": "execute_result"
    }
   ],
   "source": [
    "drug_tp_df = clean_mouse_df.groupby('Drug Regimen')\n",
    "\n",
    "tp_drug_df = drug_tp_df[\"Timepoint\"].count()\n",
    "\n",
    "tp_drug_df.head()"
   ]
  },
  {
   "cell_type": "markdown",
   "id": "6768d670",
   "metadata": {},
   "source": [
    "# Generate a summary statistics table of mean, median, variance, standard deviation, and SEM of the tumor volume"
   ]
  },
  {
   "cell_type": "code",
   "execution_count": 143,
   "id": "14a45ed7",
   "metadata": {},
   "outputs": [
    {
     "name": "stdout",
     "output_type": "stream",
     "text": [
      "The average tumor volume is  50.435293232255326\n",
      "The middle tumor volume is  48.933453655\n",
      "The standard deviation of tumor volume is  8.914196943391648\n"
     ]
    }
   ],
   "source": [
    "mean_tumor = clean_mouse_df['Tumor Volume (mm3)'].mean()\n",
    "middle_tumor = clean_mouse_df['Tumor Volume (mm3)'].median()\n",
    "std_tumor = clean_mouse_df['Tumor Volume (mm3)'].std()\n",
    "sem_tumor = clean_mouse_df['Tumor Volume (mm3)'].sem()\n",
    "\n",
    "print (\"The average tumor volume is \", str(mean_tumor))\n",
    "print (\"The middle tumor volume is \", str(middle_tumor))\n",
    "print (\"The standard deviation of tumor volume is \", str(std_tumor))"
   ]
  },
  {
   "cell_type": "markdown",
   "id": "4fe1553b",
   "metadata": {},
   "source": [
    "# Generate a summary by regimen"
   ]
  },
  {
   "cell_type": "code",
   "execution_count": 144,
   "id": "3815f705",
   "metadata": {},
   "outputs": [
    {
     "name": "stdout",
     "output_type": "stream",
     "text": [
      "The average tumor volume of  Drug Regimen\n",
      "Capomulin    40.675741\n",
      "Ceftamin     52.591172\n",
      "Infubinol    52.884795\n",
      "Ketapril     55.235638\n",
      "Naftisol     54.331565\n",
      "Placebo      54.033581\n",
      "Propriva     52.320930\n",
      "Ramicane     40.216745\n",
      "Stelasyn     54.233149\n",
      "Zoniferol    53.236507\n",
      "Name: Tumor Volume (mm3), dtype: float64\n",
      "\n",
      "The middle tumor volume of  Drug Regimen\n",
      "Capomulin    41.557809\n",
      "Ceftamin     51.776157\n",
      "Infubinol    51.820584\n",
      "Ketapril     53.698743\n",
      "Naftisol     52.509285\n",
      "Placebo      52.288934\n",
      "Propriva     50.446266\n",
      "Ramicane     40.673236\n",
      "Stelasyn     52.431737\n",
      "Zoniferol    51.818479\n",
      "Name: Tumor Volume (mm3), dtype: float64\n",
      "\n",
      "The standard deviation of tumor volume is  Drug Regimen\n",
      "Capomulin    4.994774\n",
      "Ceftamin     6.268188\n",
      "Infubinol    6.567243\n",
      "Ketapril     8.279709\n",
      "Naftisol     8.134708\n",
      "Placebo      7.821003\n",
      "Propriva     6.622085\n",
      "Ramicane     4.846308\n",
      "Stelasyn     7.710419\n",
      "Zoniferol    6.966589\n",
      "Name: Tumor Volume (mm3), dtype: float64\n"
     ]
    }
   ],
   "source": [
    "regimen_df = clean_mouse_df.groupby('Drug Regimen')\n",
    "\n",
    "mean_regimen = regimen_df[\"Tumor Volume (mm3)\"].mean()\n",
    "middle_regimen = regimen_df['Tumor Volume (mm3)'].median()\n",
    "std_regimen = regimen_df['Tumor Volume (mm3)'].std()\n",
    "sem_regimen = regimen_df['Tumor Volume (mm3)'].sem()\n",
    "\n",
    "print (\"The average tumor volume of \", str(mean_regimen))\n",
    "print()\n",
    "print (\"The middle tumor volume of \", str(middle_regimen))\n",
    "print()\n",
    "print (\"The standard deviation of tumor volume is \", str(std_regimen))"
   ]
  },
  {
   "cell_type": "markdown",
   "id": "4028f3de",
   "metadata": {},
   "source": [
    "# Mice Timepoint"
   ]
  },
  {
   "cell_type": "code",
   "execution_count": 145,
   "id": "aae05e73",
   "metadata": {},
   "outputs": [
    {
     "data": {
      "text/plain": [
       "Mouse ID\n",
       "a203    10\n",
       "a251    10\n",
       "a262    10\n",
       "a275    10\n",
       "a366     7\n",
       "Name: Timepoint, dtype: int64"
      ]
     },
     "execution_count": 145,
     "metadata": {},
     "output_type": "execute_result"
    }
   ],
   "source": [
    "mice_tp_df = clean_mouse_df.groupby('Mouse ID')\n",
    "\n",
    "timepoint_df = mice_tp_df[\"Timepoint\"].count()\n",
    "\n",
    "timepoint_df.head()"
   ]
  },
  {
   "cell_type": "markdown",
   "id": "dd1db236",
   "metadata": {},
   "source": [
    "# Drug Timepoint"
   ]
  },
  {
   "cell_type": "code",
   "execution_count": 146,
   "id": "58f89e5d",
   "metadata": {},
   "outputs": [
    {
     "data": {
      "text/plain": [
       "Drug Regimen\n",
       "Capomulin    230\n",
       "Ceftamin     178\n",
       "Infubinol    178\n",
       "Ketapril     188\n",
       "Naftisol     186\n",
       "Name: Timepoint, dtype: int64"
      ]
     },
     "execution_count": 146,
     "metadata": {},
     "output_type": "execute_result"
    }
   ],
   "source": [
    "drug_tp_df = clean_mouse_df.groupby('Drug Regimen')\n",
    "\n",
    "tp_drug_df = drug_tp_df[\"Timepoint\"].count()\n",
    "\n",
    "tp_drug_df.head()"
   ]
  },
  {
   "cell_type": "markdown",
   "id": "18d1268c",
   "metadata": {},
   "source": [
    "# Gender Unique"
   ]
  },
  {
   "cell_type": "code",
   "execution_count": 147,
   "id": "77b823c3",
   "metadata": {},
   "outputs": [
    {
     "data": {
      "text/plain": [
       "Sex\n",
       "Female    49.6\n",
       "Male      50.4\n",
       "Name: Timepoint, dtype: float64"
      ]
     },
     "execution_count": 147,
     "metadata": {},
     "output_type": "execute_result"
    }
   ],
   "source": [
    "mouse_info_df = mouse_filter_df[[\"Mouse ID\",\"Sex\",\"Timepoint\",\"Tumor Volume (mm3)\", \"Drug Regimen\"]]\n",
    "info_df = mouse_info_df.groupby([\"Mouse ID\",\"Sex\"])[\"Timepoint\"].sum()\n",
    "gender_df = info_df.groupby([\"Sex\"])\n",
    "gender_count = gender_df.count()\n",
    "\n",
    "gender_percent_df =  round((gender_df.count()/248)*100,2)\n",
    "gender_percent_df"
   ]
  },
  {
   "cell_type": "markdown",
   "id": "4318560f",
   "metadata": {},
   "source": [
    "# Charts"
   ]
  },
  {
   "cell_type": "code",
   "execution_count": 148,
   "id": "6a2394b1",
   "metadata": {},
   "outputs": [
    {
     "data": {
      "text/plain": [
       "Text(0, 0.5, '# of data points')"
      ]
     },
     "execution_count": 148,
     "metadata": {},
     "output_type": "execute_result"
    },
    {
     "data": {
      "image/png": "[encoded data removed]",
      "text/plain": [
       "<Figure size 432x288 with 1 Axes>"
      ]
     },
     "metadata": {
      "needs_background": "light"
     },
     "output_type": "display_data"
    }
   ],
   "source": [
    "%matplotlib inline\n",
    "drug_chart = tp_drug_df.plot.bar()\n",
    "\n",
    "drug_chart.set_title(\"Number of data points for each drug regimen\")\n",
    "drug_chart.set_xlabel(\"Drug Regimen\")\n",
    "drug_chart.set_ylabel(\"# of data points\")"
   ]
  },
  {
   "cell_type": "code",
   "execution_count": 149,
   "id": "0f11428b",
   "metadata": {},
   "outputs": [
    {
     "data": {
      "text/plain": [
       "Text(0, 0.5, '')"
      ]
     },
     "execution_count": 149,
     "metadata": {},
     "output_type": "execute_result"
    },
    {
     "data": {
      "image/png": "[encoded data removed]",
      "text/plain": [
       "<Figure size 432x288 with 1 Axes>"
      ]
     },
     "metadata": {},
     "output_type": "display_data"
    }
   ],
   "source": [
    "pie_chart = gender_percent_df.plot.pie(startangle = 90, title = \"% of gender tested\")\n",
    "pie_chart.set_ylabel(\"\")"
   ]
  },
  {
   "cell_type": "code",
   "execution_count": null,
   "id": "65a5acfa",
   "metadata": {},
   "outputs": [],
   "source": []
  },
  {
   "cell_type": "code",
   "execution_count": null,
   "id": "74b8ee9d",
   "metadata": {},
   "outputs": [],
   "source": []
  }
 ],
 "metadata": {
  "kernelspec": {
   "display_name": "Python 3",
   "language": "python",
   "name": "python3"
  },
  "language_info": {
   "codemirror_mode": {
    "name": "ipython",
    "version": 3
   },
   "file_extension": ".py",
   "mimetype": "text/x-python",
   "name": "python",
   "nbconvert_exporter": "python",
   "pygments_lexer": "ipython3",
   "version": "3.8.8"
  }
 },
 "nbformat": 4,
 "nbformat_minor": 5
}
