{
 "cells": [
  {
   "cell_type": "code",
   "execution_count": 1,
   "id": "496065b9",
   "metadata": {},
   "outputs": [],
   "source": [
    "# Dependencies and Setup\n",
    "import pandas as pd\n",
    "import os\n",
    "import csv\n",
    "import numpy\n",
    "import io\n",
    "import nbformat\n",
    "\n",
    "# File to Load (Remember to Change These)\n",
    "file_loaded = r\"C:\\\\Users\\\\walla\\\\Pandas_Challenge\\\\purchase_data.csv\"\n",
    "\n",
    "# Read Purchasing File and store into Pandas data frame\n",
    "purchase_data_df = pd.read_csv(file_loaded, delimiter=\",\")"
   ]
  },
  {
   "cell_type": "code",
   "execution_count": 2,
   "id": "9d8c69ac",
   "metadata": {},
   "outputs": [
    {
     "name": "stdout",
     "output_type": "stream",
     "text": [
      "Number of items for sale:  179\n",
      "Number of purchases:  780\n",
      "Average price of products: $ 3.05\n",
      "Total products sold: $ 2379.77\n"
     ]
    }
   ],
   "source": [
    "#number of purchase\n",
    "Num_purchase = len(purchase_data_df[\"Purchase ID\"].value_counts())\n",
    "\n",
    "#average price\n",
    "average_price = purchase_data_df[\"Price\"].mean()\n",
    "Avg_price = round(average_price,2)\n",
    "\n",
    "#Total revenue\n",
    "Total_Purchase = purchase_data_df[\"Price\"].sum()\n",
    "Total_Revenue = round(Total_Purchase,2)\n",
    "\n",
    "#number of items\n",
    "unique_items =  purchase_data_df[\"Item Name\"].unique()\n",
    "count_unique_items = len(purchase_data_df[\"Item Name\"].value_counts())\n",
    "\n",
    "#Summary of purchases\n",
    "print (\"Number of items for sale: \", str(count_unique_items))\n",
    "print (\"Number of purchases: \", str(Num_purchase))\n",
    "print (\"Average price of products: $\", str(Avg_price))\n",
    "print (\"Total products sold: $\", str(Total_Revenue))"
   ]
  },
  {
   "cell_type": "code",
   "execution_count": 3,
   "id": "eca61845",
   "metadata": {},
   "outputs": [
    {
     "name": "stdout",
     "output_type": "stream",
     "text": [
      "Number of purchases by gender:                         Item ID\n",
      "Gender                        \n",
      "Female                     113\n",
      "Male                       652\n",
      "Other / Non-Disclosed       15\n",
      "\n",
      "Total Amount of purchases by gender:                           Price\n",
      "Gender                        \n",
      "Female                  361.94\n",
      "Male                   1967.64\n",
      "Other / Non-Disclosed    50.19\n",
      "\n",
      "Average Amount of purchases by gender: $                        Price\n",
      "Gender                      \n",
      "Female                  3.20\n",
      "Male                    3.02\n",
      "Other / Non-Disclosed   3.35\n"
     ]
    }
   ],
   "source": [
    "#purchases by gender\n",
    "gender_df = purchase_data_df[[\"Gender\",\"Item ID\"]]\n",
    "gender_group = gender_df.groupby([\"Gender\"])\n",
    "gender_count = gender_group.count()\n",
    "\n",
    "#Total Amount of purchases by gender\n",
    "gender_df = purchase_data_df[[\"Gender\",\"Price\"]]\n",
    "gender_group = gender_df.groupby([\"Gender\"])\n",
    "gender_sum = gender_group.sum(\"Price\")\n",
    "\n",
    "#Average Amount of purchases by gender\n",
    "gender_df = purchase_data_df[[\"Gender\",\"Price\"]]\n",
    "gender_group = gender_df.groupby([\"Gender\"])\n",
    "gender_average = gender_group.mean(\"Price\")\n",
    "gender_average = round(gender_average,2)\n",
    "\n",
    "print (\"Number of purchases by gender: \", (gender_count))\n",
    "print()\n",
    "print (\"Total Amount of purchases by gender: \", (gender_sum))\n",
    "print()\n",
    "print (\"Average Amount of purchases by gender: $\", (gender_average))"
   ]
  },
  {
   "cell_type": "code",
   "execution_count": 4,
   "id": "15cbf3cf",
   "metadata": {},
   "outputs": [
    {
     "name": "stdout",
     "output_type": "stream",
     "text": [
      "Breakdown for # of purchases by age group:                 Price\n",
      "age_range           \n",
      "kids             164\n",
      "young adult      388\n",
      "adult            188\n",
      "over the hill     40\n",
      "\n",
      "Breakdown for $ of purchases by age group:                   Price\n",
      "age_range             \n",
      "kids            502.82\n",
      "young adult    1184.04\n",
      "adult           559.03\n",
      "over the hill   133.88\n",
      "\n"
     ]
    }
   ],
   "source": [
    "#Age Purchases\n",
    "age_bins = [0, 18, 24, 35, 50]\n",
    "age_range = [\"kids\", \"young adult\", \"adult\", \"over the hill\"]\n",
    "\n",
    "#label\n",
    "purchase_data_df[\"age_range\"] = pd.cut(purchase_data_df[\"Age\"],age_bins, labels=age_range, include_lowest=True)\n",
    "purchase_data_df\n",
    "\n",
    "#table age_range\n",
    "table_age = purchase_data_df[[\"age_range\",\"Price\"]]\n",
    "\n",
    "#Num of Purchase by age range\n",
    "age_group = table_age.groupby([\"age_range\"])\n",
    "age_count = age_group.count()\n",
    "\n",
    "#$ of Purchase by age range\n",
    "age_group = table_age.groupby([\"age_range\"])\n",
    "age_amount = age_group.sum()\n",
    "\n",
    "#Breakdown of purchases by age group\n",
    "print (\"Breakdown for # of purchases by age group: \", str(age_count))\n",
    "print()\n",
    "print (\"Breakdown for $ of purchases by age group: \", str(age_amount))\n",
    "print()"
   ]
  },
  {
   "cell_type": "code",
   "execution_count": 5,
   "id": "27f05f9b",
   "metadata": {},
   "outputs": [
    {
     "name": "stdout",
     "output_type": "stream",
     "text": [
      "Breakdown for # of purchases by participant:                 Price\n",
      "SN                  \n",
      "Adairialis76       1\n",
      "Adastirin33        1\n",
      "Aeda94             1\n",
      "Aela59             1\n",
      "Aelaria33          1\n",
      "...              ...\n",
      "Yathecal82         3\n",
      "Yathedeu43         2\n",
      "Yoishirrala98      1\n",
      "Zhisrisu83         2\n",
      "Zontibe81          3\n",
      "\n",
      "[576 rows x 1 columns]\n",
      "\n",
      "Breakdown for $ of purchases by participant:                 Price\n",
      "SN                  \n",
      "Adairialis76    2.28\n",
      "Adastirin33     4.48\n",
      "Aeda94          4.91\n",
      "Aela59          4.32\n",
      "Aelaria33       1.79\n",
      "...              ...\n",
      "Yathecal82      6.22\n",
      "Yathedeu43      6.02\n",
      "Yoishirrala98   4.58\n",
      "Zhisrisu83      7.89\n",
      "Zontibe81       8.03\n",
      "\n",
      "[576 rows x 1 columns]\n",
      "\n",
      "Breakdown of purchase average by participant:                 Price\n",
      "SN                  \n",
      "Adairialis76    2.28\n",
      "Adastirin33     4.48\n",
      "Aeda94          4.91\n",
      "Aela59          4.32\n",
      "Aelaria33       1.79\n",
      "...              ...\n",
      "Yathecal82      2.07\n",
      "Yathedeu43      3.01\n",
      "Yoishirrala98   4.58\n",
      "Zhisrisu83      3.94\n",
      "Zontibe81       2.68\n",
      "\n",
      "[576 rows x 1 columns]\n",
      "\n"
     ]
    }
   ],
   "source": [
    "#purchases by participant\n",
    "participant_df = purchase_data_df[[\"SN\",\"Price\"]]\n",
    "participant_group = participant_df.groupby([\"SN\"])\n",
    "participant_count = participant_group.count()\n",
    "participant_sum = participant_group.sum()\n",
    "participant_avg = participant_group.mean()\n",
    "avg_participant_purchase = round(participant_avg,2)\n",
    "\n",
    "#Breakdown of purchases by participant\n",
    "print (\"Breakdown for # of purchases by participant: \", str(participant_count))\n",
    "print()\n",
    "print (\"Breakdown for $ of purchases by participant: \", str(participant_sum))\n",
    "print()\n",
    "print (\"Breakdown of purchase average by participant: \", str(avg_participant_purchase))\n",
    "print()"
   ]
  },
  {
   "cell_type": "code",
   "execution_count": 6,
   "id": "597aec33",
   "metadata": {},
   "outputs": [
    {
     "name": "stdout",
     "output_type": "stream",
     "text": [
      "Breakdown of items sold:                                   Price\n",
      "Item Name                             \n",
      "Abyssal Shard                        5\n",
      "Aetherius, Boon of the Blessed       5\n",
      "Agatha                               6\n",
      "Alpha                                3\n",
      "Alpha, Oath of Zeal                  3\n",
      "...                                ...\n",
      "Wolf                                 8\n",
      "Wolf, Promise of the Moonwalker      6\n",
      "Worldbreaker                         4\n",
      "Yearning Crusher                     3\n",
      "Yearning Mageblade                   5\n",
      "\n",
      "[179 rows x 1 columns]\n",
      "\n",
      "Breakdown of item sold: $                                  Price\n",
      "Item Name                             \n",
      "Abyssal Shard                    13.35\n",
      "Aetherius, Boon of the Blessed   16.95\n",
      "Agatha                           18.48\n",
      "Alpha                             6.21\n",
      "Alpha, Oath of Zeal              12.15\n",
      "...                                ...\n",
      "Wolf                             28.32\n",
      "Wolf, Promise of the Moonwalker  26.88\n",
      "Worldbreaker                     10.40\n",
      "Yearning Crusher                 12.54\n",
      "Yearning Mageblade               19.10\n",
      "\n",
      "[179 rows x 1 columns]\n",
      "\n"
     ]
    }
   ],
   "source": [
    "#purchases by gender\n",
    "item_df = purchase_data_df[[\"Item Name\",\"Price\"]]\n",
    "item_group = item_df.groupby([\"Item Name\"])\n",
    "item_count = item_group.count()\n",
    "item_sum = item_group.sum()\n",
    "\n",
    "#Breakdown of purchases by participant\n",
    "print (\"Breakdown of items sold: \", str(item_count))\n",
    "print()\n",
    "print (\"Breakdown of item sold: $\", str(item_sum))\n",
    "print()"
   ]
  },
  {
   "cell_type": "code",
   "execution_count": null,
   "id": "467e3e37",
   "metadata": {},
   "outputs": [],
   "source": []
  }
 ],
 "metadata": {
  "kernelspec": {
   "display_name": "Python 3",
   "language": "python",
   "name": "python3"
  },
  "language_info": {
   "codemirror_mode": {
    "name": "ipython",
    "version": 3
   },
   "file_extension": ".py",
   "mimetype": "text/x-python",
   "name": "python",
   "nbconvert_exporter": "python",
   "pygments_lexer": "ipython3",
   "version": "3.8.8"
  }
 },
 "nbformat": 4,
 "nbformat_minor": 5
}
