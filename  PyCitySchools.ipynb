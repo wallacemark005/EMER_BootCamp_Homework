{
 "cells": [
  {
   "cell_type": "code",
   "execution_count": 24,
   "id": "496065b9",
   "metadata": {},
   "outputs": [],
   "source": [
    "# Dependencies and Setup\n",
    "import pandas as pd\n",
    "import os\n",
    "import csv\n",
    "import numpy\n",
    "import io\n",
    "import nbformat\n",
    "\n",
    "# File to Load (Remember to Change These)\n",
    "schoold_uploaded = r\"C:\\\\Users\\\\walla\\\\Pandas_Challenge\\\\schools_complete.csv\"\n",
    "students_uploaded = r\"C:\\\\Users\\\\walla\\\\Pandas_Challenge\\\\students_complete.csv\"\n",
    "\n",
    "# Read Purchasing File and store into Pandas data frame\n",
    "schools_data_df = pd.read_csv(schoold_uploaded, delimiter=\",\")\n",
    "students_data_df = pd.read_csv(students_uploaded, delimiter=\",\")"
   ]
  },
  {
   "cell_type": "code",
   "execution_count": 25,
   "id": "9d8c69ac",
   "metadata": {},
   "outputs": [
    {
     "name": "stdout",
     "output_type": "stream",
     "text": [
      "Number of district schools:  15\n",
      "Number of district students:  39170\n",
      "Total School Budget of district: $ 24649428\n",
      "\n",
      "Average district math score: 78.99\n",
      "Average district reading score: 81.88\n"
     ]
    }
   ],
   "source": [
    "#District data\n",
    "num_schools = len(schools_data_df[\"School ID\"].value_counts())\n",
    "num_students = len(students_data_df[\"Student ID\"].value_counts())\n",
    "budget_schools = schools_data_df[\"budget\"].sum()\n",
    "\n",
    "#average subject scores\n",
    "math_scores = students_data_df[\"math_score\"].mean()\n",
    "avg_math = round(math_scores,2)\n",
    "reading_scores = students_data_df[\"reading_score\"].mean()\n",
    "avg_reading = round(reading_scores,2)\n",
    "\n",
    "#Total revenue\n",
    "#Total_Purchase = purchase_data_df[\"Price\"].sum()\n",
    "#Total_Revenue = round(Total_Purchase,2)\n",
    "\n",
    "#number of items\n",
    "#unique_items =  purchase_data_df[\"Item Name\"].unique()\n",
    "#count_unique_items = len(purchase_data_df[\"Item Name\"].value_counts())\n",
    "\n",
    "#Summary of purchases\n",
    "print (\"Number of district schools: \", (num_schools))\n",
    "print (\"Number of district students: \", (num_students))\n",
    "print (\"Total School Budget of district: $\", (budget_schools))\n",
    "print()\n",
    "print (\"Average district math score:\", (avg_math))\n",
    "print (\"Average district reading score:\", (avg_reading))"
   ]
  },
  {
   "cell_type": "raw",
   "id": "e8001906",
   "metadata": {},
   "source": []
  },
  {
   "cell_type": "code",
   "execution_count": 30,
   "id": "15cbf3cf",
   "metadata": {},
   "outputs": [
    {
     "name": "stdout",
     "output_type": "stream",
     "text": [
      "percent passing math: math_score    74.980853\n",
      "dtype: float64 %\n",
      "percent passing reading: reading_score    85.805463\n",
      "dtype: float64 %\n"
     ]
    }
   ],
   "source": [
    "total_pass_math = students_data_df.loc[students_data_df[\"math_score\"] >= 70, [\"math_score\"]].count()\n",
    "percentage_math_pass = total_pass_math/num_students*100\n",
    "\n",
    "total_pass_reading = students_data_df.loc[students_data_df[\"reading_score\"] >= 70, [\"reading_score\"]].count()\n",
    "percentage_reading_pass = total_pass_reading/num_students*100\n",
    "\n",
    "passed_both = students_data_df.loc[students_data_df[\"reading_score\"] >= 70 & students_data_df.loc[students_data_df[\"math_score\"] >= 70\n",
    "\n",
    "print (\"percent passing math:\", (percentage_math_pass))\n",
    "print (\"percent passing reading:\", (percentage_reading_pass))"
   ]
  },
  {
   "cell_type": "code",
   "execution_count": null,
   "id": "27f05f9b",
   "metadata": {},
   "outputs": [],
   "source": []
  },
  {
   "cell_type": "code",
   "execution_count": null,
   "id": "597aec33",
   "metadata": {},
   "outputs": [],
   "source": []
  },
  {
   "cell_type": "code",
   "execution_count": null,
   "id": "467e3e37",
   "metadata": {},
   "outputs": [],
   "source": []
  }
 ],
 "metadata": {
  "kernelspec": {
   "display_name": "Python 3",
   "language": "python",
   "name": "python3"
  },
  "language_info": {
   "codemirror_mode": {
    "name": "ipython",
    "version": 3
   },
   "file_extension": ".py",
   "mimetype": "text/x-python",
   "name": "python",
   "nbconvert_exporter": "python",
   "pygments_lexer": "ipython3",
   "version": "3.8.8"
  }
 },
 "nbformat": 4,
 "nbformat_minor": 5
}
