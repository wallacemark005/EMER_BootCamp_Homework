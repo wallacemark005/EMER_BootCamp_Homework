{
 "cells": [
  {
   "cell_type": "markdown",
   "id": "09a96167",
   "metadata": {},
   "source": [
    "# System Setup"
   ]
  },
  {
   "cell_type": "code",
   "execution_count": 1,
   "id": "4294b099",
   "metadata": {},
   "outputs": [],
   "source": [
    "# Dependencies and Setup\n",
    "import pandas as pd\n",
    "import os\n",
    "import csv\n",
    "import numpy\n",
    "import io\n",
    "import nbformat\n",
    "\n",
    "# File to Load (Remember to Change These)\n",
    "file_loaded = r\"C:\\\\Users\\\\walla\\\\Pandas_Challenge\\\\purchase_data.csv\"\n",
    "\n",
    "# Read Purchasing File and store into Pandas data frame\n",
    "purchase_data_df = pd.read_csv(file_loaded, delimiter=\",\")"
   ]
  },
  {
   "cell_type": "markdown",
   "id": "09530f6b",
   "metadata": {},
   "source": [
    "# Players"
   ]
  },
  {
   "cell_type": "code",
   "execution_count": 2,
   "id": "77372d91",
   "metadata": {},
   "outputs": [
    {
     "data": {
      "text/html": [
       "<div>\n",
       "<style scoped>\n",
       "    .dataframe tbody tr th:only-of-type {\n",
       "        vertical-align: middle;\n",
       "    }\n",
       "\n",
       "    .dataframe tbody tr th {\n",
       "        vertical-align: top;\n",
       "    }\n",
       "\n",
       "    .dataframe thead th {\n",
       "        text-align: right;\n",
       "    }\n",
       "</style>\n",
       "<table border=\"1\" class=\"dataframe\">\n",
       "  <thead>\n",
       "    <tr style=\"text-align: right;\">\n",
       "      <th></th>\n",
       "      <th>Total Players</th>\n",
       "    </tr>\n",
       "  </thead>\n",
       "  <tbody>\n",
       "    <tr>\n",
       "      <th>0</th>\n",
       "      <td>576</td>\n",
       "    </tr>\n",
       "  </tbody>\n",
       "</table>\n",
       "</div>"
      ],
      "text/plain": [
       "   Total Players\n",
       "0            576"
      ]
     },
     "execution_count": 2,
     "metadata": {},
     "output_type": "execute_result"
    }
   ],
   "source": [
    "#number of players\n",
    "unique_players =  purchase_data_df[\"SN\"].unique()\n",
    "count_unique_players = len(purchase_data_df[\"SN\"].value_counts())\n",
    "player_count = pd.DataFrame({\"Total Players\":[count_unique_players]})\n",
    "player_count"
   ]
  },
  {
   "cell_type": "markdown",
   "id": "4e1bc83e",
   "metadata": {},
   "source": [
    "# Items puchased"
   ]
  },
  {
   "cell_type": "code",
   "execution_count": 3,
   "id": "684e6fdb",
   "metadata": {},
   "outputs": [
    {
     "data": {
      "text/html": [
       "<style  type=\"text/css\" >\n",
       "</style><table id=\"T_eea37_\" ><thead>    <tr>        <th class=\"blank level0\" ></th>        <th class=\"col_heading level0 col0\" >Number of Unique Items</th>        <th class=\"col_heading level0 col1\" >Average Price</th>        <th class=\"col_heading level0 col2\" >Number of Purchases</th>        <th class=\"col_heading level0 col3\" >Total Revenue</th>    </tr></thead><tbody>\n",
       "                <tr>\n",
       "                        <th id=\"T_eea37_level0_row0\" class=\"row_heading level0 row0\" >0</th>\n",
       "                        <td id=\"T_eea37_row0_col0\" class=\"data row0 col0\" >179</td>\n",
       "                        <td id=\"T_eea37_row0_col1\" class=\"data row0 col1\" >$3.05</td>\n",
       "                        <td id=\"T_eea37_row0_col2\" class=\"data row0 col2\" >780</td>\n",
       "                        <td id=\"T_eea37_row0_col3\" class=\"data row0 col3\" >$2,379.77</td>\n",
       "            </tr>\n",
       "    </tbody></table>"
      ],
      "text/plain": [
       "<pandas.io.formats.style.Styler at 0x28b395a3040>"
      ]
     },
     "execution_count": 3,
     "metadata": {},
     "output_type": "execute_result"
    }
   ],
   "source": [
    "# Calculations for unique items, average price, purchase count, and revenue\n",
    "number_of_unique_items = len((purchase_data_df[\"Item ID\"]).unique())\n",
    "average_price = (purchase_data_df[\"Price\"]).mean()\n",
    "number_of_purchases = (purchase_data_df[\"Purchase ID\"]).count()\n",
    "total_revenue = (purchase_data_df[\"Price\"]).sum()\n",
    "\n",
    "# Create data frame with obtained values\n",
    "summary_df = pd.DataFrame({\"Number of Unique Items\":[number_of_unique_items],\n",
    "                           \"Average Price\":[average_price], \n",
    "                           \"Number of Purchases\": [number_of_purchases], \n",
    "                           \"Total Revenue\": [total_revenue]})\n",
    "\n",
    "# Format with currency style\n",
    "summary_df.style.format({'Average Price':\"${:,.2f}\",\n",
    "                         'Total Revenue': '${:,.2f}'})"
   ]
  },
  {
   "cell_type": "code",
   "execution_count": 4,
   "id": "82b1a2fb",
   "metadata": {},
   "outputs": [
    {
     "data": {
      "text/html": [
       "<style  type=\"text/css\" >\n",
       "</style><table id=\"T_2656d_\" ><thead>    <tr>        <th class=\"blank\" ></th>        <th class=\"blank level0\" ></th>        <th class=\"col_heading level0 col0\" >Purchase Count</th>        <th class=\"col_heading level0 col1\" >Total Purchase Value</th>    </tr>    <tr>        <th class=\"index_name level0\" >Item ID</th>        <th class=\"index_name level1\" >Item Name</th>        <th class=\"blank\" ></th>        <th class=\"blank\" ></th>    </tr></thead><tbody>\n",
       "                <tr>\n",
       "                        <th id=\"T_2656d_level0_row0\" class=\"row_heading level0 row0\" >92</th>\n",
       "                        <th id=\"T_2656d_level1_row0\" class=\"row_heading level1 row0\" >Final Critic</th>\n",
       "                        <td id=\"T_2656d_row0_col0\" class=\"data row0 col0\" >13</td>\n",
       "                        <td id=\"T_2656d_row0_col1\" class=\"data row0 col1\" >$59.99</td>\n",
       "            </tr>\n",
       "            <tr>\n",
       "                        <th id=\"T_2656d_level0_row1\" class=\"row_heading level0 row1\" >178</th>\n",
       "                        <th id=\"T_2656d_level1_row1\" class=\"row_heading level1 row1\" >Oathbreaker, Last Hope of the Breaking Storm</th>\n",
       "                        <td id=\"T_2656d_row1_col0\" class=\"data row1 col0\" >12</td>\n",
       "                        <td id=\"T_2656d_row1_col1\" class=\"data row1 col1\" >$50.76</td>\n",
       "            </tr>\n",
       "            <tr>\n",
       "                        <th id=\"T_2656d_level0_row2\" class=\"row_heading level0 row2\" >145</th>\n",
       "                        <th id=\"T_2656d_level1_row2\" class=\"row_heading level1 row2\" >Fiery Glass Crusader</th>\n",
       "                        <td id=\"T_2656d_row2_col0\" class=\"data row2 col0\" >9</td>\n",
       "                        <td id=\"T_2656d_row2_col1\" class=\"data row2 col1\" >$41.22</td>\n",
       "            </tr>\n",
       "            <tr>\n",
       "                        <th id=\"T_2656d_level0_row3\" class=\"row_heading level0 row3\" >132</th>\n",
       "                        <th id=\"T_2656d_level1_row3\" class=\"row_heading level1 row3\" >Persuasion</th>\n",
       "                        <td id=\"T_2656d_row3_col0\" class=\"data row3 col0\" >9</td>\n",
       "                        <td id=\"T_2656d_row3_col1\" class=\"data row3 col1\" >$28.99</td>\n",
       "            </tr>\n",
       "            <tr>\n",
       "                        <th id=\"T_2656d_level0_row4\" class=\"row_heading level0 row4\" >108</th>\n",
       "                        <th id=\"T_2656d_level1_row4\" class=\"row_heading level1 row4\" >Extraction, Quickblade Of Trembling Hands</th>\n",
       "                        <td id=\"T_2656d_row4_col0\" class=\"data row4 col0\" >9</td>\n",
       "                        <td id=\"T_2656d_row4_col1\" class=\"data row4 col1\" >$31.77</td>\n",
       "            </tr>\n",
       "    </tbody></table>"
      ],
      "text/plain": [
       "<pandas.io.formats.style.Styler at 0x28b39594940>"
      ]
     },
     "execution_count": 4,
     "metadata": {},
     "output_type": "execute_result"
    }
   ],
   "source": [
    "# Create new data frame with items related information \n",
    "items = purchase_data_df[[\"Item ID\", \"Item Name\", \"Price\"]]\n",
    "\n",
    "# Group the item data by item id and item name \n",
    "item_stats = items.groupby([\"Item ID\",\"Item Name\"])\n",
    "\n",
    "# Count the number of times an item has been purchased \n",
    "purchase_count_item = item_stats[\"Price\"].count()\n",
    "\n",
    "# Calcualte the purchase value per item \n",
    "purchase_value = (item_stats[\"Price\"].sum()) \n",
    "\n",
    "# Create data frame with obtained values\n",
    "most_popular_items = pd.DataFrame({\"Purchase Count\": purchase_count_item, \n",
    "                                   \"Total Purchase Value\":purchase_value})\n",
    "\n",
    "# Sort in descending order to obtain top 5 sold item\n",
    "popular_formatted = most_popular_items.sort_values([\"Purchase Count\"], ascending=False).head()\n",
    "\n",
    "# Format with currency style\n",
    "popular_formatted.style.format({\"Item Price\":\"${:,.2f}\",\n",
    "                                \"Total Purchase Value\":\"${:,.2f}\"})"
   ]
  },
  {
   "cell_type": "markdown",
   "id": "cc0b9c53",
   "metadata": {},
   "source": [
    "# Gender Breakdown"
   ]
  },
  {
   "cell_type": "code",
   "execution_count": 5,
   "id": "480f0170",
   "metadata": {},
   "outputs": [
    {
     "data": {
      "text/html": [
       "<div>\n",
       "<style scoped>\n",
       "    .dataframe tbody tr th:only-of-type {\n",
       "        vertical-align: middle;\n",
       "    }\n",
       "\n",
       "    .dataframe tbody tr th {\n",
       "        vertical-align: top;\n",
       "    }\n",
       "\n",
       "    .dataframe thead th {\n",
       "        text-align: right;\n",
       "    }\n",
       "</style>\n",
       "<table border=\"1\" class=\"dataframe\">\n",
       "  <thead>\n",
       "    <tr style=\"text-align: right;\">\n",
       "      <th></th>\n",
       "      <th>Total Purchases</th>\n",
       "      <th>Percentage of Players</th>\n",
       "    </tr>\n",
       "    <tr>\n",
       "      <th>Gender</th>\n",
       "      <th></th>\n",
       "      <th></th>\n",
       "    </tr>\n",
       "  </thead>\n",
       "  <tbody>\n",
       "    <tr>\n",
       "      <th>Female</th>\n",
       "      <td>81</td>\n",
       "      <td>14.06</td>\n",
       "    </tr>\n",
       "    <tr>\n",
       "      <th>Male</th>\n",
       "      <td>484</td>\n",
       "      <td>84.03</td>\n",
       "    </tr>\n",
       "    <tr>\n",
       "      <th>Other / Non-Disclosed</th>\n",
       "      <td>11</td>\n",
       "      <td>1.91</td>\n",
       "    </tr>\n",
       "  </tbody>\n",
       "</table>\n",
       "</div>"
      ],
      "text/plain": [
       "                       Total Purchases  Percentage of Players\n",
       "Gender                                                       \n",
       "Female                              81                  14.06\n",
       "Male                               484                  84.03\n",
       "Other / Non-Disclosed               11                   1.91"
      ]
     },
     "execution_count": 5,
     "metadata": {},
     "output_type": "execute_result"
    }
   ],
   "source": [
    "#purchases by gender\n",
    "gender_df = purchase_data_df[[\"Gender\",\"Item ID\"]]\n",
    "gender_group = gender_df.groupby([\"Gender\"])\n",
    "gender_count = gender_group.count()\n",
    "\n",
    "#Total Amount of purchases by gender\n",
    "gender_df = purchase_data_df[[\"Gender\",\"Price\"]]\n",
    "gender_group = gender_df.groupby([\"Gender\"])\n",
    "gender_sum = gender_group.sum(\"Price\")\n",
    "\n",
    "#Average Amount of purchases by gender\n",
    "gender_df = purchase_data_df[[\"Gender\",\"Price\"]]\n",
    "gender_group = gender_df.groupby([\"Gender\"])\n",
    "gender_average = gender_group.mean(\"Price\")\n",
    "gender_average = round(gender_average,2)\n",
    "\n",
    "# Percentage of Gender Demographics\n",
    "player_group = purchase_data_df[[\"SN\", \"Gender\"]]\n",
    "player_info_df = purchase_data_df.groupby([\"SN\", \"Gender\"])[\"Age\"].count()\n",
    "\n",
    "gender_df = player_info_df.groupby([\"Gender\"])\n",
    "gender_count = gender_df.count()\n",
    "\n",
    "gender_percent_df =  round((gender_df.count()/count_unique_players)*100,2)\n",
    "\n",
    "gender_demographics = pd.DataFrame({\"Total Purchases\": gender_count, \"Percentage of Players\": gender_percent_df })\n",
    "\n",
    "gender_demographics"
   ]
  },
  {
   "cell_type": "markdown",
   "id": "f5255df7",
   "metadata": {},
   "source": [
    "# Average Purchase per gender"
   ]
  },
  {
   "cell_type": "code",
   "execution_count": 6,
   "id": "e7724124",
   "metadata": {},
   "outputs": [
    {
     "data": {
      "text/html": [
       "<div>\n",
       "<style scoped>\n",
       "    .dataframe tbody tr th:only-of-type {\n",
       "        vertical-align: middle;\n",
       "    }\n",
       "\n",
       "    .dataframe tbody tr th {\n",
       "        vertical-align: top;\n",
       "    }\n",
       "\n",
       "    .dataframe thead th {\n",
       "        text-align: right;\n",
       "    }\n",
       "</style>\n",
       "<table border=\"1\" class=\"dataframe\">\n",
       "  <thead>\n",
       "    <tr style=\"text-align: right;\">\n",
       "      <th></th>\n",
       "      <th>Price</th>\n",
       "    </tr>\n",
       "    <tr>\n",
       "      <th>Gender</th>\n",
       "      <th></th>\n",
       "    </tr>\n",
       "  </thead>\n",
       "  <tbody>\n",
       "    <tr>\n",
       "      <th>Female</th>\n",
       "      <td>3.20</td>\n",
       "    </tr>\n",
       "    <tr>\n",
       "      <th>Male</th>\n",
       "      <td>3.02</td>\n",
       "    </tr>\n",
       "    <tr>\n",
       "      <th>Other / Non-Disclosed</th>\n",
       "      <td>3.35</td>\n",
       "    </tr>\n",
       "  </tbody>\n",
       "</table>\n",
       "</div>"
      ],
      "text/plain": [
       "                       Price\n",
       "Gender                      \n",
       "Female                  3.20\n",
       "Male                    3.02\n",
       "Other / Non-Disclosed   3.35"
      ]
     },
     "execution_count": 6,
     "metadata": {},
     "output_type": "execute_result"
    }
   ],
   "source": [
    "#Average Amount of purchases by gender\n",
    "gender_df = purchase_data_df[[\"Gender\",\"Price\"]]\n",
    "gender_group = gender_df.groupby([\"Gender\"])\n",
    "gender_average = gender_group.mean(\"Price\")\n",
    "gender_average = round(gender_average,2)\n",
    "gender_average"
   ]
  },
  {
   "cell_type": "markdown",
   "id": "f35567e1",
   "metadata": {},
   "source": [
    "# Top Player Breakdown by amount purchased"
   ]
  },
  {
   "cell_type": "code",
   "execution_count": 7,
   "id": "1c3e8e2a",
   "metadata": {},
   "outputs": [
    {
     "data": {
      "text/html": [
       "<style  type=\"text/css\" >\n",
       "</style><table id=\"T_3966e_\" ><thead>    <tr>        <th class=\"blank level0\" ></th>        <th class=\"col_heading level0 col0\" >Purchase Count</th>        <th class=\"col_heading level0 col1\" >Average Purchase Price</th>        <th class=\"col_heading level0 col2\" >Total Purchase Value</th>    </tr>    <tr>        <th class=\"index_name level0\" >SN</th>        <th class=\"blank\" ></th>        <th class=\"blank\" ></th>        <th class=\"blank\" ></th>    </tr></thead><tbody>\n",
       "                <tr>\n",
       "                        <th id=\"T_3966e_level0_row0\" class=\"row_heading level0 row0\" >Lisosia93</th>\n",
       "                        <td id=\"T_3966e_row0_col0\" class=\"data row0 col0\" >5</td>\n",
       "                        <td id=\"T_3966e_row0_col1\" class=\"data row0 col1\" >$3.79</td>\n",
       "                        <td id=\"T_3966e_row0_col2\" class=\"data row0 col2\" >$18.96</td>\n",
       "            </tr>\n",
       "            <tr>\n",
       "                        <th id=\"T_3966e_level0_row1\" class=\"row_heading level0 row1\" >Idastidru52</th>\n",
       "                        <td id=\"T_3966e_row1_col0\" class=\"data row1 col0\" >4</td>\n",
       "                        <td id=\"T_3966e_row1_col1\" class=\"data row1 col1\" >$3.86</td>\n",
       "                        <td id=\"T_3966e_row1_col2\" class=\"data row1 col2\" >$15.45</td>\n",
       "            </tr>\n",
       "            <tr>\n",
       "                        <th id=\"T_3966e_level0_row2\" class=\"row_heading level0 row2\" >Chamjask73</th>\n",
       "                        <td id=\"T_3966e_row2_col0\" class=\"data row2 col0\" >3</td>\n",
       "                        <td id=\"T_3966e_row2_col1\" class=\"data row2 col1\" >$4.61</td>\n",
       "                        <td id=\"T_3966e_row2_col2\" class=\"data row2 col2\" >$13.83</td>\n",
       "            </tr>\n",
       "            <tr>\n",
       "                        <th id=\"T_3966e_level0_row3\" class=\"row_heading level0 row3\" >Iral74</th>\n",
       "                        <td id=\"T_3966e_row3_col0\" class=\"data row3 col0\" >4</td>\n",
       "                        <td id=\"T_3966e_row3_col1\" class=\"data row3 col1\" >$3.40</td>\n",
       "                        <td id=\"T_3966e_row3_col2\" class=\"data row3 col2\" >$13.62</td>\n",
       "            </tr>\n",
       "            <tr>\n",
       "                        <th id=\"T_3966e_level0_row4\" class=\"row_heading level0 row4\" >Iskadarya95</th>\n",
       "                        <td id=\"T_3966e_row4_col0\" class=\"data row4 col0\" >3</td>\n",
       "                        <td id=\"T_3966e_row4_col1\" class=\"data row4 col1\" >$4.37</td>\n",
       "                        <td id=\"T_3966e_row4_col2\" class=\"data row4 col2\" >$13.10</td>\n",
       "            </tr>\n",
       "    </tbody></table>"
      ],
      "text/plain": [
       "<pandas.io.formats.style.Styler at 0x28b395a39d0>"
      ]
     },
     "execution_count": 7,
     "metadata": {},
     "output_type": "execute_result"
    }
   ],
   "source": [
    "# Group purchase data by screen names\n",
    "spender_stats = purchase_data_df.groupby(\"SN\")\n",
    "\n",
    "# Count the total purchases by name\n",
    "purchase_count_spender = spender_stats[\"Purchase ID\"].count()\n",
    "\n",
    "# Calculate the average purchase by name \n",
    "avg_purchase_price_spender = spender_stats[\"Price\"].mean()\n",
    "\n",
    "# total amount bought \n",
    "purchase_total_spender = spender_stats[\"Price\"].sum()\n",
    "\n",
    "# Create data frame with obtained values\n",
    "top_spenders = pd.DataFrame({\"Purchase Count\": purchase_count_spender,\n",
    "                             \"Average Purchase Price\": avg_purchase_price_spender,\n",
    "                             \"Total Purchase Value\":purchase_total_spender})\n",
    "\n",
    "# Sort in descending order to obtain top 5 spender names \n",
    "formatted_spenders = top_spenders.sort_values([\"Total Purchase Value\"], ascending=False).head()\n",
    "\n",
    "# Format with currency style\n",
    "formatted_spenders.style.format({\"Average Purchase Total\":\"${:,.2f}\",\n",
    "                                 \"Average Purchase Price\":\"${:,.2f}\", \n",
    "                                 \"Total Purchase Value\":\"${:,.2f}\"})"
   ]
  },
  {
   "cell_type": "markdown",
   "id": "4b4eaea3",
   "metadata": {},
   "source": [
    "# Age Breakdown"
   ]
  },
  {
   "cell_type": "code",
   "execution_count": 8,
   "id": "6858dfee",
   "metadata": {},
   "outputs": [
    {
     "name": "stdout",
     "output_type": "stream",
     "text": [
      "Breakdown for # of purchases by age group:                 Price\n",
      "age_range           \n",
      "kids             164\n",
      "young adult      388\n",
      "adult            188\n",
      "over the hill     40\n",
      "\n",
      "Breakdown for Total purchase $ by age group:                   Price\n",
      "age_range             \n",
      "kids            502.82\n",
      "young adult    1184.04\n",
      "adult           559.03\n",
      "over the hill   133.88\n",
      "\n",
      "Breakdown for Average purchase $ by age group:                    Price\n",
      "age_range              \n",
      "kids           3.065976\n",
      "young adult    3.051649\n",
      "adult          2.973564\n",
      "over the hill  3.347000\n",
      "\n"
     ]
    }
   ],
   "source": [
    "#Age Purchases\n",
    "age_bins = [0, 18, 24, 35, 50]\n",
    "age_range = [\"kids\", \"young adult\", \"adult\", \"over the hill\"]\n",
    "\n",
    "#label\n",
    "purchase_data_df[\"age_range\"] = pd.cut(purchase_data_df[\"Age\"],age_bins, labels=age_range, include_lowest=True)\n",
    "purchase_data_df\n",
    "\n",
    "#table age_range\n",
    "table_age = purchase_data_df[[\"age_range\",\"Price\"]]\n",
    "\n",
    "#Num of Purchase by age range\n",
    "age_group = table_age.groupby([\"age_range\"])\n",
    "age_count = age_group.count()\n",
    "\n",
    "#$ of Purchase by age range\n",
    "age_group = table_age.groupby([\"age_range\"])\n",
    "age_amount = age_group.sum()\n",
    "age_avg_amount = age_group.mean()\n",
    "\n",
    "#Breakdown of purchases by age group\n",
    "print (\"Breakdown for # of purchases by age group: \", str(age_count))\n",
    "print()\n",
    "print (\"Breakdown for Total purchase $ by age group: \", str(age_amount))\n",
    "print()\n",
    "print (\"Breakdown for Average purchase $ by age group: \", str(age_avg_amount))\n",
    "print()"
   ]
  },
  {
   "cell_type": "code",
   "execution_count": null,
   "id": "15fae8f1",
   "metadata": {},
   "outputs": [],
   "source": []
  },
  {
   "cell_type": "code",
   "execution_count": null,
   "id": "bfb0c53e",
   "metadata": {},
   "outputs": [],
   "source": []
  }
 ],
 "metadata": {
  "kernelspec": {
   "display_name": "Python 3",
   "language": "python",
   "name": "python3"
  },
  "language_info": {
   "codemirror_mode": {
    "name": "ipython",
    "version": 3
   },
   "file_extension": ".py",
   "mimetype": "text/x-python",
   "name": "python",
   "nbconvert_exporter": "python",
   "pygments_lexer": "ipython3",
   "version": "3.8.8"
  }
 },
 "nbformat": 4,
 "nbformat_minor": 5
}
